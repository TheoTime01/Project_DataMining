{
 "cells": [
  {
   "cell_type": "code",
   "execution_count": null,
   "metadata": {},
   "outputs": [],
   "source": [
    "import numpy as np\n",
    "import pandas as pd\n",
    "from sklearn.preprocessing import LabelEncoder\n",
    "import tensorflow as tf\n",
    "from tensorflow.keras.models import Sequential\n",
    "from tensorflow.keras.layers import Dense\n",
    "from tensorflow.keras.utils import plot_model\n",
    "import json\n",
    "import matplotlib.pyplot as plt"
   ]
  },
  {
   "cell_type": "code",
   "execution_count": null,
   "metadata": {},
   "outputs": [],
   "source": [
    "\n",
    "# Load user input data\n",
    "with open('user.json', 'r') as f:\n",
    "    user_data = json.load(f)"
   ]
  },
  {
   "cell_type": "code",
   "execution_count": null,
   "metadata": {},
   "outputs": [],
   "source": [
    "# Create label encoders\n",
    "le1 = LabelEncoder()\n",
    "le2 = LabelEncoder()\n",
    "le3 = LabelEncoder()\n",
    "le4 = LabelEncoder()\n",
    "le5 = LabelEncoder()\n",
    "le6 = LabelEncoder()\n",
    "le7 = LabelEncoder()\n",
    "le8 = LabelEncoder()\n",
    "\n",
    "# Create dataframes\n",
    "for i in user_data:\n",
    "    data = user_data[str(i)][\"data\"]\n",
    "    result = user_data[str(i)][\"result\"]\n",
    "    dataframe = pd.DataFrame(data, columns=[\"Name\",\"Type 1\", \"Type 2\", \"Generation\",\"legendary\", \"color\",\"first_letter\"])\n",
    "    resultframe = pd.DataFrame(result, columns=[\"favorite\"])\n",
    "\n",
    "    # Generate numerical labels\n",
    "    dataframe[\"Name\"] = le1.fit_transform(dataframe[\"Name\"])\n",
    "    dataframe[\"Type 1\"] = le2.fit_transform(dataframe[\"Type 1\"])\n",
    "    dataframe[\"Type 2\"] = le3.fit_transform(dataframe[\"Type 2\"])\n",
    "    dataframe[\"Generation\"] = le4.fit_transform(dataframe[\"Generation\"])\n",
    "    dataframe[\"legendary\"] = le5.fit_transform(dataframe[\"legendary\"])\n",
    "    dataframe[\"color\"] = le6.fit_transform(dataframe[\"color\"])\n",
    "    dataframe[\"first_letter\"] = le7.fit_transform(dataframe[\"first_letter\"])\n",
    "    resultframe[\"favorite\"] = le8.fit_transform(resultframe[\"favorite\"])\n",
    "\n",
    "    # Split data into training and testing sets\n",
    "    train_dataset = dataframe.sample(frac=0.8, random_state=0)\n",
    "    test_dataset = dataframe.drop(train_dataset.index)\n",
    "\n",
    "    # Split labels into training and testing sets\n",
    "    train_labels = resultframe.sample(frac=0.8, random_state=0)\n",
    "    test_labels = resultframe.drop(train_labels.index)\n",
    "\n",
    "    # Define the model\n",
    "    model = tf.keras.models.Sequential([\n",
    "        tf.keras.layers.Dense(32, activation='relu', input_shape=(7,)),\n",
    "        tf.keras.layers.Dense(16, activation='relu'),\n",
    "        tf.keras.layers.Dense(8, activation='relu'),\n",
    "        tf.keras.layers.Dense(1, activation='sigmoid')\n",
    "    ])\n",
    "\n",
    "    # Compile the model\n",
    "    model.compile(optimizer='adam', loss='binary_crossentropy', metrics=['accuracy'])\n",
    "\n",
    "    # Train the model\n",
    "    history = model.fit(train_dataset, train_labels, validation_data=(test_dataset, test_labels), epochs=5)\n",
    "    print(history.history.keys())\n",
    "    break\n"
   ]
  },
  {
   "cell_type": "code",
   "execution_count": null,
   "metadata": {},
   "outputs": [],
   "source": [
    "print(history.history.keys())"
   ]
  },
  {
   "cell_type": "code",
   "execution_count": null,
   "metadata": {},
   "outputs": [],
   "source": [
    "# Evaluate model\n",
    "test_loss, test_acc = model.evaluate(train_dataset, train_labels)\n",
    "print('Test accuracy:', test_acc)\n",
    "print('Test loss:', test_loss)\n"
   ]
  },
  {
   "cell_type": "code",
   "execution_count": null,
   "metadata": {},
   "outputs": [],
   "source": [
    "# Plot accuracy and loss over time\n",
    "plt.plot(history.history['accuracy'], label='Training Accuracy')\n",
    "plt.plot(history.history['val_accuracy'], label='Validation Accuracy')\n",
    "plt.plot(history.history['loss'], label='Training Loss')\n",
    "plt.plot(history.history['val_loss'], label='Validation Loss')\n",
    "plt.legend()\n",
    "plt.show()"
   ]
  }
 ],
 "metadata": {
  "kernelspec": {
   "display_name": "Python 3.11.0 64-bit",
   "language": "python",
   "name": "python3"
  },
  "language_info": {
   "codemirror_mode": {
    "name": "ipython",
    "version": 3
   },
   "file_extension": ".py",
   "mimetype": "text/x-python",
   "name": "python",
   "nbconvert_exporter": "python",
   "pygments_lexer": "ipython3",
   "version": "3.11.0"
  },
  "orig_nbformat": 4,
  "vscode": {
   "interpreter": {
    "hash": "5e709a68c8bffd8ca64ede960b472aee5cbbab0a7eefe704a97155fcd513aef5"
   }
  }
 },
 "nbformat": 4,
 "nbformat_minor": 2
}
