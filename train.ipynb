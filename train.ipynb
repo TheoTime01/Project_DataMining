{
 "cells": [
  {
   "cell_type": "code",
   "execution_count": 3,
   "metadata": {},
   "outputs": [],
   "source": [
    "\"\"\" this script is used to train the model \"\"\"\n",
    "import os\n",
    "import json\n",
    "import numpy as np\n",
    "from sklearn.neural_network import MLPClassifier\n",
    "from sklearn import datasets, metrics\n",
    "from sklearn.model_selection import train_test_split\n",
    "from sklearn.preprocessing import StandardScaler\n",
    "import matplotlib.pyplot as plot\n",
    "from sklearn.metrics import confusion_matrix, ConfusionMatrixDisplay\n"
   ]
  },
  {
   "cell_type": "code",
   "execution_count": 10,
   "metadata": {},
   "outputs": [],
   "source": [
    "# specify the path to the JSON file\n",
    "json_path = r\"C:\\Users\\Tototime\\Desktop\\Project_DataMining\\database.json\"\n",
    "\n",
    "\n",
    "# load the data\n",
    "with open(json_path, 'r') as f:\n",
    "    data = json.load(f)\n",
    "    X = []\n",
    "    Y = []\n",
    "    for image in data.values():\n",
    "        # get the features\n",
    "        features = []\n",
    "        if 'tags' in image:\n",
    "            for tags in image['tags']:\n",
    "                if tags.split(\":\")[0] == 'Generation':\n",
    "                    features.append(int(tags.split(\":\")[1]))\n",
    "            X.append(features[0])\n",
    "        else:\n",
    "            X.append(-1)\n",
    "        # get the target\n",
    "        color = image['couleur']['couleur dominante']\n",
    "        if color == \"rouge\":\n",
    "            Y.append(0)\n",
    "        elif color == \"vert\":\n",
    "            Y.append(1)\n",
    "        else:\n",
    "            Y.append(2)\n"
   ]
  },
  {
   "cell_type": "code",
   "execution_count": 11,
   "metadata": {},
   "outputs": [],
   "source": [
    "# convert the data to numpy arrays\n",
    "x = np.array(X)\n",
    "y = np.array(Y)"
   ]
  },
  {
   "cell_type": "code",
   "execution_count": 23,
   "metadata": {},
   "outputs": [
    {
     "data": {
      "image/png": "[encoded data removed]",
      "text/plain": [
       "<Figure size 640x480 with 1 Axes>"
      ]
     },
     "metadata": {},
     "output_type": "display_data"
    }
   ],
   "source": [
    "# plot the data to see the distribution of the colors\n",
    "plot.scatter(y, x)\n",
    "plot.show()\n",
    "        \n"
   ]
  },
  {
   "cell_type": "code",
   "execution_count": 24,
   "metadata": {},
   "outputs": [
    {
     "ename": "ValueError",
     "evalue": "Expected 2D array, got 1D array instead:\narray=[-1.  4.  1.  5.  5.  6.  3.  3.  4.  2.  1.  5.  1.  1.  6.  6. -1.  5.\n  4.  1.  3.  5.  3.  2.  1.  2.  3.  5.  3.  3. -1. -1.  1. -1.  3.  5.\n  6. -1.  4.  3.  1.  1.  1.  5.  5.  6.  4.  1.  1.  1.  3.  4.  5.  1.\n  5.  5.  3.  6. -1. -1.  2.  2. -1.  3.  1. -1.  4. -1.  2.  3.  3.  3.\n  2.  3. -1.  5.  2.  4.  6.  3. -1.  2.  3.  3.  5.  1.  5.  4. -1.  3.\n -1.  1.  2.  2.  4.  5.  1. -1.  6.  2.  3.  4.  1.  1.  3.  2.  3.  2.\n  4.  4.  5. -1.  2.  3.  5. -1.  1.  2.  5.  4.  3.  2.  6.  5.  5.  1.\n  1.  5.  4.  5.  3.  5.  1.  3.  6. -1.  6.  1. -1.  6.  1.  4.  6.  2.\n  3.  5.  5.  3.  4.  2.  5.  4.  4.  3.  5.  4.  3.  4.  3.  5. -1.  3.\n  5.  2.  3.  2. -1.  3. -1.  1.  5.  3.  1. -1.  6.  1.  5.  2.  4.  2.\n  1.  1.  2.  5.  4.  2.  4.  1.  5.  3.  1.  3. -1.  2. -1.  2.  3.  5.\n  5.  6.  1.  1. -1.  2.  2.  5. -1.  4.  5.  3.  1.  4.  1.  5.  5. -1.\n  1.  2.  3. -1. -1.  1.  5.  3.  1. -1.  4. -1.  5.  1. -1.  5.  3.  4.\n  4.  3.  6. -1.  5.  6. -1.  5.  5. -1. -1.  5.  2.  5.  6.  1.  1.  3.\n  2. -1.  4. -1.  4.  1.  1. -1.  4. -1.  2.  2.  1.  3.  1.  3. -1. -1.\n  5. -1. -1. -1.  5. -1.  5.  2.  1.  1.  4. -1.  2.  5.  5.  1.  3.  1.\n  1.  4. -1.  5.  5. -1.  1. -1.  3.  6.  1.  3.  4.  5.  5.  2.  1.  4.\n  6.  5.  3.  5.  5.  5.  5.  2.  2.  2.  3.  1.  5.  3.  1.  5.  4. -1.\n  5. -1.  3.  4.  6. -1.  1. -1.  5. -1.  5. -1.  5. -1.  3.  6.  4.  3.\n  1.  3. -1.  1. -1.  1.  5.  4.  1.  5.  6.  6. -1.  3.  3.  4.  4.  3.\n  1.  1.  1.  1.  1. -1.  2.  1.  5.  5.  6. -1. -1.  5.  2.  2.  1.  6.\n  5.  3. -1.  4.  6.  1.  6.  2.  4.  2. -1.  5.  4.  1.  5.  5.  6.  3.\n  5. -1.  2.  5.  1.  3.  3.  1.  1.  3.  1.  2.  1.  6.  1.  2.  2.  3.\n  4.  5.  6.  1.  5.  3. -1.  4. -1.  3.  6.  3.  6. -1.  3.  1.  2.  1.\n  3.  1.  6.  1.  4. -1. -1.  3.  2. -1.  5.  5.  5.  6. -1. -1.  3.  5.\n  1.  4.  2.  3.  5.  5. -1.  6.  6.  1.  2.  1.  4.  3.  2. -1.  2.  2.\n  3.  4.  5.  3.  5.  5.  5.  5.  1.  4. -1.  1.  5.  3.  5.  4.  2.  4.\n  1.  2.  2.  2.  5. -1.  4.  5. -1.  3.  1.  6.  3.  4. -1. -1.  1.  3.\n  3.  3.  3.  2.  5.  5.  3.  3.  1.  6.  1. -1.  4.  6.  1.  1.  6. -1.\n -1.  2.  3.  1.  1.  2.  1.  1.  1. -1.  5.  3.  2.  5. -1.  5.  2.  4.\n -1.  6.  1.  6.  1.  4.  5.  4.  3.  4.  5. -1.  4. -1. -1. -1. -1.  3.\n  2.  6.  6.  1.  5.  3.  5.  4.  6.  3.  5.  2.  2.  2.  6.  1.  3.  3.\n  2.  1.  5. -1. -1.  2.  2.  4.  2.  3.  1. -1.  3.  6.  4.  1.  1.  4.\n  1. -1.  6.  4.  5.  1.  6.  2.  1. -1.  4.  5.  5.  2.  3. -1.  1.  5.\n  5.  6.  3.  3.  4.  2.  5.  1.  2. -1.  4.  1.  6.  6.  2.  6.  2.  5.\n  1.  1.  2.  2.  5.  4.  6.  3. -1.  1.  4.  2.  5.  1.  6.  3.  6.  1.\n  3.  1.  6.  3.  5.  5.  5.].\nReshape your data either using array.reshape(-1, 1) if your data has a single feature or array.reshape(1, -1) if it contains a single sample.",
     "output_type": "error",
     "traceback": [
      "\u001b[1;31m---------------------------------------------------------------------------\u001b[0m",
      "\u001b[1;31mValueError\u001b[0m                                Traceback (most recent call last)",
      "Cell \u001b[1;32mIn[24], line 6\u001b[0m\n\u001b[0;32m      4\u001b[0m \u001b[39m# scale the data\u001b[39;00m\n\u001b[0;32m      5\u001b[0m scaler \u001b[39m=\u001b[39m StandardScaler()\n\u001b[1;32m----> 6\u001b[0m scaler\u001b[39m.\u001b[39;49mfit(X_train)\n\u001b[0;32m      7\u001b[0m X_train \u001b[39m=\u001b[39m scaler\u001b[39m.\u001b[39mtransform(X_train)\n\u001b[0;32m      8\u001b[0m X_test \u001b[39m=\u001b[39m scaler\u001b[39m.\u001b[39mtransform(X_test)\n",
      "File \u001b[1;32mc:\\Users\\Tototime\\AppData\\Local\\Programs\\Python\\Python311\\Lib\\site-packages\\sklearn\\preprocessing\\_data.py:824\u001b[0m, in \u001b[0;36mStandardScaler.fit\u001b[1;34m(self, X, y, sample_weight)\u001b[0m\n\u001b[0;32m    822\u001b[0m \u001b[39m# Reset internal state before fitting\u001b[39;00m\n\u001b[0;32m    823\u001b[0m \u001b[39mself\u001b[39m\u001b[39m.\u001b[39m_reset()\n\u001b[1;32m--> 824\u001b[0m \u001b[39mreturn\u001b[39;00m \u001b[39mself\u001b[39;49m\u001b[39m.\u001b[39;49mpartial_fit(X, y, sample_weight)\n",
      "File \u001b[1;32mc:\\Users\\Tototime\\AppData\\Local\\Programs\\Python\\Python311\\Lib\\site-packages\\sklearn\\preprocessing\\_data.py:861\u001b[0m, in \u001b[0;36mStandardScaler.partial_fit\u001b[1;34m(self, X, y, sample_weight)\u001b[0m\n\u001b[0;32m    858\u001b[0m \u001b[39mself\u001b[39m\u001b[39m.\u001b[39m_validate_params()\n\u001b[0;32m    860\u001b[0m first_call \u001b[39m=\u001b[39m \u001b[39mnot\u001b[39;00m \u001b[39mhasattr\u001b[39m(\u001b[39mself\u001b[39m, \u001b[39m\"\u001b[39m\u001b[39mn_samples_seen_\u001b[39m\u001b[39m\"\u001b[39m)\n\u001b[1;32m--> 861\u001b[0m X \u001b[39m=\u001b[39m \u001b[39mself\u001b[39;49m\u001b[39m.\u001b[39;49m_validate_data(\n\u001b[0;32m    862\u001b[0m     X,\n\u001b[0;32m    863\u001b[0m     accept_sparse\u001b[39m=\u001b[39;49m(\u001b[39m\"\u001b[39;49m\u001b[39mcsr\u001b[39;49m\u001b[39m\"\u001b[39;49m, \u001b[39m\"\u001b[39;49m\u001b[39mcsc\u001b[39;49m\u001b[39m\"\u001b[39;49m),\n\u001b[0;32m    864\u001b[0m     dtype\u001b[39m=\u001b[39;49mFLOAT_DTYPES,\n\u001b[0;32m    865\u001b[0m     force_all_finite\u001b[39m=\u001b[39;49m\u001b[39m\"\u001b[39;49m\u001b[39mallow-nan\u001b[39;49m\u001b[39m\"\u001b[39;49m,\n\u001b[0;32m    866\u001b[0m     reset\u001b[39m=\u001b[39;49mfirst_call,\n\u001b[0;32m    867\u001b[0m )\n\u001b[0;32m    868\u001b[0m n_features \u001b[39m=\u001b[39m X\u001b[39m.\u001b[39mshape[\u001b[39m1\u001b[39m]\n\u001b[0;32m    870\u001b[0m \u001b[39mif\u001b[39;00m sample_weight \u001b[39mis\u001b[39;00m \u001b[39mnot\u001b[39;00m \u001b[39mNone\u001b[39;00m:\n",
      "File \u001b[1;32mc:\\Users\\Tototime\\AppData\\Local\\Programs\\Python\\Python311\\Lib\\site-packages\\sklearn\\base.py:546\u001b[0m, in \u001b[0;36mBaseEstimator._validate_data\u001b[1;34m(self, X, y, reset, validate_separately, **check_params)\u001b[0m\n\u001b[0;32m    544\u001b[0m     \u001b[39mraise\u001b[39;00m \u001b[39mValueError\u001b[39;00m(\u001b[39m\"\u001b[39m\u001b[39mValidation should be done on X, y or both.\u001b[39m\u001b[39m\"\u001b[39m)\n\u001b[0;32m    545\u001b[0m \u001b[39melif\u001b[39;00m \u001b[39mnot\u001b[39;00m no_val_X \u001b[39mand\u001b[39;00m no_val_y:\n\u001b[1;32m--> 546\u001b[0m     X \u001b[39m=\u001b[39m check_array(X, input_name\u001b[39m=\u001b[39;49m\u001b[39m\"\u001b[39;49m\u001b[39mX\u001b[39;49m\u001b[39m\"\u001b[39;49m, \u001b[39m*\u001b[39;49m\u001b[39m*\u001b[39;49mcheck_params)\n\u001b[0;32m    547\u001b[0m     out \u001b[39m=\u001b[39m X\n\u001b[0;32m    548\u001b[0m \u001b[39melif\u001b[39;00m no_val_X \u001b[39mand\u001b[39;00m \u001b[39mnot\u001b[39;00m no_val_y:\n",
      "File \u001b[1;32mc:\\Users\\Tototime\\AppData\\Local\\Programs\\Python\\Python311\\Lib\\site-packages\\sklearn\\utils\\validation.py:902\u001b[0m, in \u001b[0;36mcheck_array\u001b[1;34m(array, accept_sparse, accept_large_sparse, dtype, order, copy, force_all_finite, ensure_2d, allow_nd, ensure_min_samples, ensure_min_features, estimator, input_name)\u001b[0m\n\u001b[0;32m    900\u001b[0m     \u001b[39m# If input is 1D raise error\u001b[39;00m\n\u001b[0;32m    901\u001b[0m     \u001b[39mif\u001b[39;00m array\u001b[39m.\u001b[39mndim \u001b[39m==\u001b[39m \u001b[39m1\u001b[39m:\n\u001b[1;32m--> 902\u001b[0m         \u001b[39mraise\u001b[39;00m \u001b[39mValueError\u001b[39;00m(\n\u001b[0;32m    903\u001b[0m             \u001b[39m\"\u001b[39m\u001b[39mExpected 2D array, got 1D array instead:\u001b[39m\u001b[39m\\n\u001b[39;00m\u001b[39marray=\u001b[39m\u001b[39m{}\u001b[39;00m\u001b[39m.\u001b[39m\u001b[39m\\n\u001b[39;00m\u001b[39m\"\u001b[39m\n\u001b[0;32m    904\u001b[0m             \u001b[39m\"\u001b[39m\u001b[39mReshape your data either using array.reshape(-1, 1) if \u001b[39m\u001b[39m\"\u001b[39m\n\u001b[0;32m    905\u001b[0m             \u001b[39m\"\u001b[39m\u001b[39myour data has a single feature or array.reshape(1, -1) \u001b[39m\u001b[39m\"\u001b[39m\n\u001b[0;32m    906\u001b[0m             \u001b[39m\"\u001b[39m\u001b[39mif it contains a single sample.\u001b[39m\u001b[39m\"\u001b[39m\u001b[39m.\u001b[39mformat(array)\n\u001b[0;32m    907\u001b[0m         )\n\u001b[0;32m    909\u001b[0m \u001b[39mif\u001b[39;00m dtype_numeric \u001b[39mand\u001b[39;00m array\u001b[39m.\u001b[39mdtype\u001b[39m.\u001b[39mkind \u001b[39min\u001b[39;00m \u001b[39m\"\u001b[39m\u001b[39mUSV\u001b[39m\u001b[39m\"\u001b[39m:\n\u001b[0;32m    910\u001b[0m     \u001b[39mraise\u001b[39;00m \u001b[39mValueError\u001b[39;00m(\n\u001b[0;32m    911\u001b[0m         \u001b[39m\"\u001b[39m\u001b[39mdtype=\u001b[39m\u001b[39m'\u001b[39m\u001b[39mnumeric\u001b[39m\u001b[39m'\u001b[39m\u001b[39m is not compatible with arrays of bytes/strings.\u001b[39m\u001b[39m\"\u001b[39m\n\u001b[0;32m    912\u001b[0m         \u001b[39m\"\u001b[39m\u001b[39mConvert your data to numeric values explicitly instead.\u001b[39m\u001b[39m\"\u001b[39m\n\u001b[0;32m    913\u001b[0m     )\n",
      "\u001b[1;31mValueError\u001b[0m: Expected 2D array, got 1D array instead:\narray=[-1.  4.  1.  5.  5.  6.  3.  3.  4.  2.  1.  5.  1.  1.  6.  6. -1.  5.\n  4.  1.  3.  5.  3.  2.  1.  2.  3.  5.  3.  3. -1. -1.  1. -1.  3.  5.\n  6. -1.  4.  3.  1.  1.  1.  5.  5.  6.  4.  1.  1.  1.  3.  4.  5.  1.\n  5.  5.  3.  6. -1. -1.  2.  2. -1.  3.  1. -1.  4. -1.  2.  3.  3.  3.\n  2.  3. -1.  5.  2.  4.  6.  3. -1.  2.  3.  3.  5.  1.  5.  4. -1.  3.\n -1.  1.  2.  2.  4.  5.  1. -1.  6.  2.  3.  4.  1.  1.  3.  2.  3.  2.\n  4.  4.  5. -1.  2.  3.  5. -1.  1.  2.  5.  4.  3.  2.  6.  5.  5.  1.\n  1.  5.  4.  5.  3.  5.  1.  3.  6. -1.  6.  1. -1.  6.  1.  4.  6.  2.\n  3.  5.  5.  3.  4.  2.  5.  4.  4.  3.  5.  4.  3.  4.  3.  5. -1.  3.\n  5.  2.  3.  2. -1.  3. -1.  1.  5.  3.  1. -1.  6.  1.  5.  2.  4.  2.\n  1.  1.  2.  5.  4.  2.  4.  1.  5.  3.  1.  3. -1.  2. -1.  2.  3.  5.\n  5.  6.  1.  1. -1.  2.  2.  5. -1.  4.  5.  3.  1.  4.  1.  5.  5. -1.\n  1.  2.  3. -1. -1.  1.  5.  3.  1. -1.  4. -1.  5.  1. -1.  5.  3.  4.\n  4.  3.  6. -1.  5.  6. -1.  5.  5. -1. -1.  5.  2.  5.  6.  1.  1.  3.\n  2. -1.  4. -1.  4.  1.  1. -1.  4. -1.  2.  2.  1.  3.  1.  3. -1. -1.\n  5. -1. -1. -1.  5. -1.  5.  2.  1.  1.  4. -1.  2.  5.  5.  1.  3.  1.\n  1.  4. -1.  5.  5. -1.  1. -1.  3.  6.  1.  3.  4.  5.  5.  2.  1.  4.\n  6.  5.  3.  5.  5.  5.  5.  2.  2.  2.  3.  1.  5.  3.  1.  5.  4. -1.\n  5. -1.  3.  4.  6. -1.  1. -1.  5. -1.  5. -1.  5. -1.  3.  6.  4.  3.\n  1.  3. -1.  1. -1.  1.  5.  4.  1.  5.  6.  6. -1.  3.  3.  4.  4.  3.\n  1.  1.  1.  1.  1. -1.  2.  1.  5.  5.  6. -1. -1.  5.  2.  2.  1.  6.\n  5.  3. -1.  4.  6.  1.  6.  2.  4.  2. -1.  5.  4.  1.  5.  5.  6.  3.\n  5. -1.  2.  5.  1.  3.  3.  1.  1.  3.  1.  2.  1.  6.  1.  2.  2.  3.\n  4.  5.  6.  1.  5.  3. -1.  4. -1.  3.  6.  3.  6. -1.  3.  1.  2.  1.\n  3.  1.  6.  1.  4. -1. -1.  3.  2. -1.  5.  5.  5.  6. -1. -1.  3.  5.\n  1.  4.  2.  3.  5.  5. -1.  6.  6.  1.  2.  1.  4.  3.  2. -1.  2.  2.\n  3.  4.  5.  3.  5.  5.  5.  5.  1.  4. -1.  1.  5.  3.  5.  4.  2.  4.\n  1.  2.  2.  2.  5. -1.  4.  5. -1.  3.  1.  6.  3.  4. -1. -1.  1.  3.\n  3.  3.  3.  2.  5.  5.  3.  3.  1.  6.  1. -1.  4.  6.  1.  1.  6. -1.\n -1.  2.  3.  1.  1.  2.  1.  1.  1. -1.  5.  3.  2.  5. -1.  5.  2.  4.\n -1.  6.  1.  6.  1.  4.  5.  4.  3.  4.  5. -1.  4. -1. -1. -1. -1.  3.\n  2.  6.  6.  1.  5.  3.  5.  4.  6.  3.  5.  2.  2.  2.  6.  1.  3.  3.\n  2.  1.  5. -1. -1.  2.  2.  4.  2.  3.  1. -1.  3.  6.  4.  1.  1.  4.\n  1. -1.  6.  4.  5.  1.  6.  2.  1. -1.  4.  5.  5.  2.  3. -1.  1.  5.\n  5.  6.  3.  3.  4.  2.  5.  1.  2. -1.  4.  1.  6.  6.  2.  6.  2.  5.\n  1.  1.  2.  2.  5.  4.  6.  3. -1.  1.  4.  2.  5.  1.  6.  3.  6.  1.\n  3.  1.  6.  3.  5.  5.  5.].\nReshape your data either using array.reshape(-1, 1) if your data has a single feature or array.reshape(1, -1) if it contains a single sample."
     ]
    }
   ],
   "source": [
    "# split the data into training and testing sets\n",
    "X_train, X_test, y_train, y_test = train_test_split(x, y, test_size=0.2, random_state=0)\n",
    "\n",
    "# scale the data\n",
    "scaler = StandardScaler()\n",
    "scaler.fit(X_train)\n",
    "X_train = scaler.transform(X_train)\n",
    "X_test = scaler.transform(X_test)\n"
   ]
  },
  {
   "cell_type": "code",
   "execution_count": null,
   "metadata": {},
   "outputs": [],
   "source": [
    "# train the model\n",
    "mlp = MLPClassifier(hidden_layer_sizes=(100, 100, 100), max_iter=1000)\n",
    "mlp.fit(X_train, y_train)\n",
    "\n",
    "# make predictions\n",
    "predictions = mlp.predict(X_test)\n"
   ]
  },
  {
   "cell_type": "code",
   "execution_count": null,
   "metadata": {},
   "outputs": [],
   "source": [
    "# evaluate the model\n",
    "print(\"Accuracy:\", metrics.accuracy_score(y_test, predictions))\n",
    "print(\"Precision:\", metrics.precision_score(y_test, predictions, average='macro'))\n",
    "print(\"Recall:\", metrics.recall_score(y_test, predictions, average='macro'))\n",
    "print(\"F1:\", metrics.f1_score(y_test, predictions, average='macro'))\n",
    "\n"
   ]
  },
  {
   "cell_type": "code",
   "execution_count": null,
   "metadata": {},
   "outputs": [],
   "source": [
    "# plot the confusion matrix\n",
    "cm = confusion_matrix(y_test, predictions)\n",
    "disp = ConfusionMatrixDisplay(confusion_matrix=cm, display_labels=[\"rouge\", \"vert\", \"bleu\"])\n",
    "disp.plot()\n",
    "plot.show()\n"
   ]
  }
 ],
 "metadata": {
  "kernelspec": {
   "display_name": "Python 3.11.0 64-bit",
   "language": "python",
   "name": "python3"
  },
  "language_info": {
   "codemirror_mode": {
    "name": "ipython",
    "version": 3
   },
   "file_extension": ".py",
   "mimetype": "text/x-python",
   "name": "python",
   "nbconvert_exporter": "python",
   "pygments_lexer": "ipython3",
   "version": "3.11.0"
  },
  "orig_nbformat": 4,
  "vscode": {
   "interpreter": {
    "hash": "5e709a68c8bffd8ca64ede960b472aee5cbbab0a7eefe704a97155fcd513aef5"
   }
  }
 },
 "nbformat": 4,
 "nbformat_minor": 2
}
