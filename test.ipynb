{
 "cells": [
  {
   "cell_type": "code",
   "execution_count": 2,
   "metadata": {},
   "outputs": [
    {
     "name": "stdout",
     "output_type": "stream",
     "text": [
      "Total time:  1 : 0.14529728889465332\n",
      "Total time:  2 : 0.09267044067382812\n",
      "Total time:  3 : 0.829448938369751\n",
      "Total time:  4 : 1.341294765472412\n",
      "Total time:  5 : 0.08830928802490234\n",
      "Total time:  6 : 1.4389424324035645\n",
      "Total time:  7 : 1.243032455444336\n",
      "Total time:  8 : 1.207183837890625\n",
      "Total time:  9 : 0.1624135971069336\n",
      "Total time:  10 : 1.8261215686798096\n",
      "Total time:  11 : 0.11891412734985352\n",
      "Total time:  12 : 1.0222246646881104\n",
      "Total time:  13 : 1.276792287826538\n",
      "Total time:  14 : 0.5649354457855225\n",
      "Total time:  15 : 0.8407173156738281\n",
      "Total time:  16 : 1.5780725479125977\n",
      "Total time:  17 : 1.0943706035614014\n",
      "Total time:  18 : 1.364278793334961\n",
      "Total time:  19 : 0.6169955730438232\n"
     ]
    },
    {
     "data": {
      "image/png": "[encoded data removed]",
      "text/plain": [
       "<Figure size 640x480 with 1 Axes>"
      ]
     },
     "metadata": {},
     "output_type": "display_data"
    }
   ],
   "source": [
    "from PIL import Image\n",
    "import numpy\n",
    "import math\n",
    "import time\n",
    "import matplotlib.pyplot as plot\n",
    "from sklearn.cluster import MiniBatchKMeans\n",
    "\n",
    "imgfile = Image.open(r\"C:\\Users\\Tototime\\Desktop\\Project_DataMining\\Ramen\\25525.jpg\")\n",
    "numarray = numpy.array(imgfile.getdata(), numpy.uint8)\n",
    "X = []\n",
    "Y = []\n",
    "for x in range(1, 20):\n",
    "    cluster_count = x\n",
    "\n",
    "    start_time = time.time()\n",
    "    clusters = MiniBatchKMeans(n_clusters=cluster_count, n_init=2)\n",
    "    clusters.fit(numarray)\n",
    "    end_time = time.time()\n",
    "    total_time = end_time - start_time\n",
    "    print(\"Total time: \", x, \":\", total_time)\n",
    "    X.append(x)\n",
    "    Y.append(total_time)\n",
    "plot.bar(X, Y)\n",
    "plot.show()"
   ]
  },
  {
   "cell_type": "code",
   "execution_count": 3,
   "metadata": {},
   "outputs": [
    {
     "name": "stdout",
     "output_type": "stream",
     "text": [
      "Number of images:  115008\n",
      "Input data:  [[ 0.  0.  5. 13.  9.  1.  0.  0.]\n",
      " [ 0.  0. 13. 15. 10. 15.  5.  0.]\n",
      " [ 0.  3. 15.  2.  0. 11.  8.  0.]\n",
      " [ 0.  4. 12.  0.  0.  8.  8.  0.]\n",
      " [ 0.  5.  8.  0.  0.  9.  8.  0.]\n",
      " [ 0.  4. 11.  0.  1. 12.  7.  0.]\n",
      " [ 0.  2. 14.  5. 10. 12.  0.  0.]\n",
      " [ 0.  0.  6. 13. 10.  0.  0.  0.]]\n",
      "Label: 0\n"
     ]
    },
    {
     "data": {
      "image/png": "[encoded data removed]",
      "text/plain": [
       "<Figure size 640x480 with 1 Axes>"
      ]
     },
     "metadata": {},
     "output_type": "display_data"
    }
   ],
   "source": [
    "from sklearn import datasets\n",
    "import numpy as np\n",
    "import matplotlib.pyplot as plot\n",
    "\n",
    "digits = datasets.load_digits()\n",
    "\n",
    "print(\"Number of images: \", digits.images.size)\n",
    "print(\"Input data: \", digits.images[0])\n",
    "print(\"Label:\", digits.target[0])\n",
    "\n",
    "plot.imshow(digits.images[0], cmap=plot.cm.gray_r)\n",
    "plot.show()"
   ]
  },
  {
   "cell_type": "code",
   "execution_count": 5,
   "metadata": {},
   "outputs": [
    {
     "name": "stdout",
     "output_type": "stream",
     "text": [
      "['Favorite']\n",
      "[0.16595745 0.69574468 0.         0.13829787]\n"
     ]
    }
   ],
   "source": [
    "from sklearn import tree\n",
    "import pandas as pd\n",
    "from sklearn.preprocessing import LabelEncoder\n",
    "\n",
    "data = [\n",
    "    [\"green\", \"nature\", \"thumbnail\", \"landscape\"],\n",
    "    [\"blue\", \"architecture\", \"medium\", \"portrait\"],\n",
    "    [\"blue\", \"people\", \"medium\", \"landscape\"],\n",
    "    [\"yellow\", \"nature\", \"medium\", \"portrait\"],\n",
    "    [\"green\", \"nature\", \"thumbnail\", \"landscape\"],\n",
    "    [\"blue\", \"people\", \"medium\", \"landscape\"],\n",
    "    [\"blue\", \"nature\", \"thumbnail\", \"portrait\"],\n",
    "    [\"yellow\", \"architecture\", \"thumbnail\", \"landscape\"],\n",
    "    [\"blue\", \"people\", \"medium\", \"portrait\"],\n",
    "    [\"yellow\", \"nature\", \"medium\", \"landscape\"],\n",
    "    [\"yellow\", \"people\", \"thumbnail\", \"portrait\"],\n",
    "    [\"blue\", \"people\", \"medium\", \"landscape\"],\n",
    "    [\"red\", \"architecture\", \"thumbnail\", \"landscape\"],\n",
    "]\n",
    "result = [\n",
    "    \"Favorite\",\n",
    "    \"NotFavorite\",\n",
    "    \"Favorite\",\n",
    "    \"Favorite\",\n",
    "    \"Favorite\",\n",
    "    \"Favorite\",\n",
    "    \"Favorite\",\n",
    "    \"NotFavorite\",\n",
    "    \"NotFavorite\",\n",
    "    \"Favorite\",\n",
    "    \"Favorite\",\n",
    "    \"NotFavorite\",\n",
    "    \"NotFavorite\",\n",
    "]\n",
    "\n",
    "\n",
    "# creating dataframes\n",
    "dataframe = pd.DataFrame(data, columns=[\"color\", \"tag\", \"size\", \"mode\"])\n",
    "resultframe = pd.DataFrame(result, columns=[\"favorite\"])\n",
    "\n",
    "# generating numerical labels\n",
    "le1 = LabelEncoder()\n",
    "dataframe[\"color\"] = le1.fit_transform(dataframe[\"color\"])\n",
    "\n",
    "le2 = LabelEncoder()\n",
    "dataframe[\"tag\"] = le2.fit_transform(dataframe[\"tag\"])\n",
    "\n",
    "le3 = LabelEncoder()\n",
    "dataframe[\"size\"] = le3.fit_transform(dataframe[\"size\"])\n",
    "\n",
    "le4 = LabelEncoder()\n",
    "dataframe[\"mode\"] = le4.fit_transform(dataframe[\"mode\"])\n",
    "\n",
    "le5 = LabelEncoder()\n",
    "resultframe[\"favorite\"] = le5.fit_transform(resultframe[\"favorite\"])\n",
    "\n",
    "# Use of decision tree classifiers\n",
    "dtc = tree.DecisionTreeClassifier()\n",
    "dtc = dtc.fit(dataframe.values, resultframe)\n",
    "\n",
    "# prediction\n",
    "prediction = dtc.predict(\n",
    "    [\n",
    "        [\n",
    "            le1.transform([\"red\"])[0],\n",
    "            le2.transform([\"nature\"])[0],\n",
    "            le3.transform([\"thumbnail\"])[0],\n",
    "            le4.transform([\"portrait\"])[0],\n",
    "        ]\n",
    "    ]\n",
    ")\n",
    "print(le5.inverse_transform(prediction))\n",
    "print(dtc.feature_importances_)"
   ]
  }
 ],
 "metadata": {
  "kernelspec": {
   "display_name": "Python 3.11.0 64-bit",
   "language": "python",
   "name": "python3"
  },
  "language_info": {
   "codemirror_mode": {
    "name": "ipython",
    "version": 3
   },
   "file_extension": ".py",
   "mimetype": "text/x-python",
   "name": "python",
   "nbconvert_exporter": "python",
   "pygments_lexer": "ipython3",
   "version": "3.11.0"
  },
  "orig_nbformat": 4,
  "vscode": {
   "interpreter": {
    "hash": "5e709a68c8bffd8ca64ede960b472aee5cbbab0a7eefe704a97155fcd513aef5"
   }
  }
 },
 "nbformat": 4,
 "nbformat_minor": 2
}
