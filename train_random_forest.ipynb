{
 "cells": [
  {
   "cell_type": "code",
   "execution_count": 3,
   "metadata": {},
   "outputs": [],
   "source": [
    "import numpy as np\n",
    "import pandas as pd\n",
    "from sklearn.preprocessing import LabelEncoder\n",
    "from sklearn.ensemble import RandomForestClassifier\n",
    "from sklearn.metrics import accuracy_score\n",
    "import json\n",
    "from sklearn.datasets import make_classification\n",
    "from sklearn.tree import plot_tree"
   ]
  },
  {
   "cell_type": "code",
   "execution_count": 4,
   "metadata": {},
   "outputs": [],
   "source": [
    "# Load user input data\n",
    "with open('user.json', 'r') as f:\n",
    "    user_data = json.load(f)\n",
    "\n",
    "# Create label encoders\n",
    "le1 = LabelEncoder()\n",
    "le2 = LabelEncoder()\n",
    "le3 = LabelEncoder()\n",
    "le4 = LabelEncoder()\n",
    "le5 = LabelEncoder()\n",
    "le6 = LabelEncoder()\n",
    "le7 = LabelEncoder()\n",
    "le8 = LabelEncoder()\n"
   ]
  },
  {
   "cell_type": "code",
   "execution_count": 8,
   "metadata": {},
   "outputs": [
    {
     "name": "stderr",
     "output_type": "stream",
     "text": [
      "C:\\Users\\Tototime\\AppData\\Local\\Temp\\ipykernel_59932\\3024032756.py:30: DataConversionWarning: A column-vector y was passed when a 1d array was expected. Please change the shape of y to (n_samples,), for example using ravel().\n",
      "  model.fit(train_data, train_labels)\n",
      "C:\\Users\\Tototime\\AppData\\Local\\Temp\\ipykernel_59932\\3024032756.py:30: DataConversionWarning: A column-vector y was passed when a 1d array was expected. Please change the shape of y to (n_samples,), for example using ravel().\n",
      "  model.fit(train_data, train_labels)\n",
      "C:\\Users\\Tototime\\AppData\\Local\\Temp\\ipykernel_59932\\3024032756.py:30: DataConversionWarning: A column-vector y was passed when a 1d array was expected. Please change the shape of y to (n_samples,), for example using ravel().\n",
      "  model.fit(train_data, train_labels)\n",
      "C:\\Users\\Tototime\\AppData\\Local\\Temp\\ipykernel_59932\\3024032756.py:30: DataConversionWarning: A column-vector y was passed when a 1d array was expected. Please change the shape of y to (n_samples,), for example using ravel().\n",
      "  model.fit(train_data, train_labels)\n",
      "C:\\Users\\Tototime\\AppData\\Local\\Temp\\ipykernel_59932\\3024032756.py:30: DataConversionWarning: A column-vector y was passed when a 1d array was expected. Please change the shape of y to (n_samples,), for example using ravel().\n",
      "  model.fit(train_data, train_labels)\n",
      "C:\\Users\\Tototime\\AppData\\Local\\Temp\\ipykernel_59932\\3024032756.py:30: DataConversionWarning: A column-vector y was passed when a 1d array was expected. Please change the shape of y to (n_samples,), for example using ravel().\n",
      "  model.fit(train_data, train_labels)\n",
      "C:\\Users\\Tototime\\AppData\\Local\\Temp\\ipykernel_59932\\3024032756.py:30: DataConversionWarning: A column-vector y was passed when a 1d array was expected. Please change the shape of y to (n_samples,), for example using ravel().\n",
      "  model.fit(train_data, train_labels)\n",
      "C:\\Users\\Tototime\\AppData\\Local\\Temp\\ipykernel_59932\\3024032756.py:30: DataConversionWarning: A column-vector y was passed when a 1d array was expected. Please change the shape of y to (n_samples,), for example using ravel().\n",
      "  model.fit(train_data, train_labels)\n",
      "C:\\Users\\Tototime\\AppData\\Local\\Temp\\ipykernel_59932\\3024032756.py:30: DataConversionWarning: A column-vector y was passed when a 1d array was expected. Please change the shape of y to (n_samples,), for example using ravel().\n",
      "  model.fit(train_data, train_labels)\n",
      "C:\\Users\\Tototime\\AppData\\Local\\Temp\\ipykernel_59932\\3024032756.py:30: DataConversionWarning: A column-vector y was passed when a 1d array was expected. Please change the shape of y to (n_samples,), for example using ravel().\n",
      "  model.fit(train_data, train_labels)\n",
      "C:\\Users\\Tototime\\AppData\\Local\\Temp\\ipykernel_59932\\3024032756.py:30: DataConversionWarning: A column-vector y was passed when a 1d array was expected. Please change the shape of y to (n_samples,), for example using ravel().\n",
      "  model.fit(train_data, train_labels)\n",
      "C:\\Users\\Tototime\\AppData\\Local\\Temp\\ipykernel_59932\\3024032756.py:30: DataConversionWarning: A column-vector y was passed when a 1d array was expected. Please change the shape of y to (n_samples,), for example using ravel().\n",
      "  model.fit(train_data, train_labels)\n",
      "C:\\Users\\Tototime\\AppData\\Local\\Temp\\ipykernel_59932\\3024032756.py:30: DataConversionWarning: A column-vector y was passed when a 1d array was expected. Please change the shape of y to (n_samples,), for example using ravel().\n",
      "  model.fit(train_data, train_labels)\n",
      "C:\\Users\\Tototime\\AppData\\Local\\Temp\\ipykernel_59932\\3024032756.py:30: DataConversionWarning: A column-vector y was passed when a 1d array was expected. Please change the shape of y to (n_samples,), for example using ravel().\n",
      "  model.fit(train_data, train_labels)\n",
      "C:\\Users\\Tototime\\AppData\\Local\\Temp\\ipykernel_59932\\3024032756.py:30: DataConversionWarning: A column-vector y was passed when a 1d array was expected. Please change the shape of y to (n_samples,), for example using ravel().\n",
      "  model.fit(train_data, train_labels)\n",
      "C:\\Users\\Tototime\\AppData\\Local\\Temp\\ipykernel_59932\\3024032756.py:30: DataConversionWarning: A column-vector y was passed when a 1d array was expected. Please change the shape of y to (n_samples,), for example using ravel().\n",
      "  model.fit(train_data, train_labels)\n",
      "C:\\Users\\Tototime\\AppData\\Local\\Temp\\ipykernel_59932\\3024032756.py:30: DataConversionWarning: A column-vector y was passed when a 1d array was expected. Please change the shape of y to (n_samples,), for example using ravel().\n",
      "  model.fit(train_data, train_labels)\n",
      "C:\\Users\\Tototime\\AppData\\Local\\Temp\\ipykernel_59932\\3024032756.py:30: DataConversionWarning: A column-vector y was passed when a 1d array was expected. Please change the shape of y to (n_samples,), for example using ravel().\n",
      "  model.fit(train_data, train_labels)\n",
      "C:\\Users\\Tototime\\AppData\\Local\\Temp\\ipykernel_59932\\3024032756.py:30: DataConversionWarning: A column-vector y was passed when a 1d array was expected. Please change the shape of y to (n_samples,), for example using ravel().\n",
      "  model.fit(train_data, train_labels)\n",
      "C:\\Users\\Tototime\\AppData\\Local\\Temp\\ipykernel_59932\\3024032756.py:30: DataConversionWarning: A column-vector y was passed when a 1d array was expected. Please change the shape of y to (n_samples,), for example using ravel().\n",
      "  model.fit(train_data, train_labels)\n",
      "C:\\Users\\Tototime\\AppData\\Local\\Temp\\ipykernel_59932\\3024032756.py:30: DataConversionWarning: A column-vector y was passed when a 1d array was expected. Please change the shape of y to (n_samples,), for example using ravel().\n",
      "  model.fit(train_data, train_labels)\n",
      "C:\\Users\\Tototime\\AppData\\Local\\Temp\\ipykernel_59932\\3024032756.py:30: DataConversionWarning: A column-vector y was passed when a 1d array was expected. Please change the shape of y to (n_samples,), for example using ravel().\n",
      "  model.fit(train_data, train_labels)\n",
      "C:\\Users\\Tototime\\AppData\\Local\\Temp\\ipykernel_59932\\3024032756.py:30: DataConversionWarning: A column-vector y was passed when a 1d array was expected. Please change the shape of y to (n_samples,), for example using ravel().\n",
      "  model.fit(train_data, train_labels)\n",
      "C:\\Users\\Tototime\\AppData\\Local\\Temp\\ipykernel_59932\\3024032756.py:30: DataConversionWarning: A column-vector y was passed when a 1d array was expected. Please change the shape of y to (n_samples,), for example using ravel().\n",
      "  model.fit(train_data, train_labels)\n",
      "C:\\Users\\Tototime\\AppData\\Local\\Temp\\ipykernel_59932\\3024032756.py:30: DataConversionWarning: A column-vector y was passed when a 1d array was expected. Please change the shape of y to (n_samples,), for example using ravel().\n",
      "  model.fit(train_data, train_labels)\n",
      "C:\\Users\\Tototime\\AppData\\Local\\Temp\\ipykernel_59932\\3024032756.py:30: DataConversionWarning: A column-vector y was passed when a 1d array was expected. Please change the shape of y to (n_samples,), for example using ravel().\n",
      "  model.fit(train_data, train_labels)\n",
      "C:\\Users\\Tototime\\AppData\\Local\\Temp\\ipykernel_59932\\3024032756.py:30: DataConversionWarning: A column-vector y was passed when a 1d array was expected. Please change the shape of y to (n_samples,), for example using ravel().\n",
      "  model.fit(train_data, train_labels)\n",
      "C:\\Users\\Tototime\\AppData\\Local\\Temp\\ipykernel_59932\\3024032756.py:30: DataConversionWarning: A column-vector y was passed when a 1d array was expected. Please change the shape of y to (n_samples,), for example using ravel().\n",
      "  model.fit(train_data, train_labels)\n",
      "C:\\Users\\Tototime\\AppData\\Local\\Temp\\ipykernel_59932\\3024032756.py:30: DataConversionWarning: A column-vector y was passed when a 1d array was expected. Please change the shape of y to (n_samples,), for example using ravel().\n",
      "  model.fit(train_data, train_labels)\n",
      "C:\\Users\\Tototime\\AppData\\Local\\Temp\\ipykernel_59932\\3024032756.py:30: DataConversionWarning: A column-vector y was passed when a 1d array was expected. Please change the shape of y to (n_samples,), for example using ravel().\n",
      "  model.fit(train_data, train_labels)\n",
      "C:\\Users\\Tototime\\AppData\\Local\\Temp\\ipykernel_59932\\3024032756.py:30: DataConversionWarning: A column-vector y was passed when a 1d array was expected. Please change the shape of y to (n_samples,), for example using ravel().\n",
      "  model.fit(train_data, train_labels)\n",
      "C:\\Users\\Tototime\\AppData\\Local\\Temp\\ipykernel_59932\\3024032756.py:30: DataConversionWarning: A column-vector y was passed when a 1d array was expected. Please change the shape of y to (n_samples,), for example using ravel().\n",
      "  model.fit(train_data, train_labels)\n",
      "C:\\Users\\Tototime\\AppData\\Local\\Temp\\ipykernel_59932\\3024032756.py:30: DataConversionWarning: A column-vector y was passed when a 1d array was expected. Please change the shape of y to (n_samples,), for example using ravel().\n",
      "  model.fit(train_data, train_labels)\n",
      "C:\\Users\\Tototime\\AppData\\Local\\Temp\\ipykernel_59932\\3024032756.py:30: DataConversionWarning: A column-vector y was passed when a 1d array was expected. Please change the shape of y to (n_samples,), for example using ravel().\n",
      "  model.fit(train_data, train_labels)\n",
      "C:\\Users\\Tototime\\AppData\\Local\\Temp\\ipykernel_59932\\3024032756.py:30: DataConversionWarning: A column-vector y was passed when a 1d array was expected. Please change the shape of y to (n_samples,), for example using ravel().\n",
      "  model.fit(train_data, train_labels)\n",
      "C:\\Users\\Tototime\\AppData\\Local\\Temp\\ipykernel_59932\\3024032756.py:30: DataConversionWarning: A column-vector y was passed when a 1d array was expected. Please change the shape of y to (n_samples,), for example using ravel().\n",
      "  model.fit(train_data, train_labels)\n",
      "C:\\Users\\Tototime\\AppData\\Local\\Temp\\ipykernel_59932\\3024032756.py:30: DataConversionWarning: A column-vector y was passed when a 1d array was expected. Please change the shape of y to (n_samples,), for example using ravel().\n",
      "  model.fit(train_data, train_labels)\n",
      "C:\\Users\\Tototime\\AppData\\Local\\Temp\\ipykernel_59932\\3024032756.py:30: DataConversionWarning: A column-vector y was passed when a 1d array was expected. Please change the shape of y to (n_samples,), for example using ravel().\n",
      "  model.fit(train_data, train_labels)\n",
      "C:\\Users\\Tototime\\AppData\\Local\\Temp\\ipykernel_59932\\3024032756.py:30: DataConversionWarning: A column-vector y was passed when a 1d array was expected. Please change the shape of y to (n_samples,), for example using ravel().\n",
      "  model.fit(train_data, train_labels)\n",
      "C:\\Users\\Tototime\\AppData\\Local\\Temp\\ipykernel_59932\\3024032756.py:30: DataConversionWarning: A column-vector y was passed when a 1d array was expected. Please change the shape of y to (n_samples,), for example using ravel().\n",
      "  model.fit(train_data, train_labels)\n",
      "C:\\Users\\Tototime\\AppData\\Local\\Temp\\ipykernel_59932\\3024032756.py:30: DataConversionWarning: A column-vector y was passed when a 1d array was expected. Please change the shape of y to (n_samples,), for example using ravel().\n",
      "  model.fit(train_data, train_labels)\n",
      "C:\\Users\\Tototime\\AppData\\Local\\Temp\\ipykernel_59932\\3024032756.py:30: DataConversionWarning: A column-vector y was passed when a 1d array was expected. Please change the shape of y to (n_samples,), for example using ravel().\n",
      "  model.fit(train_data, train_labels)\n",
      "C:\\Users\\Tototime\\AppData\\Local\\Temp\\ipykernel_59932\\3024032756.py:30: DataConversionWarning: A column-vector y was passed when a 1d array was expected. Please change the shape of y to (n_samples,), for example using ravel().\n",
      "  model.fit(train_data, train_labels)\n",
      "C:\\Users\\Tototime\\AppData\\Local\\Temp\\ipykernel_59932\\3024032756.py:30: DataConversionWarning: A column-vector y was passed when a 1d array was expected. Please change the shape of y to (n_samples,), for example using ravel().\n",
      "  model.fit(train_data, train_labels)\n",
      "C:\\Users\\Tototime\\AppData\\Local\\Temp\\ipykernel_59932\\3024032756.py:30: DataConversionWarning: A column-vector y was passed when a 1d array was expected. Please change the shape of y to (n_samples,), for example using ravel().\n",
      "  model.fit(train_data, train_labels)\n",
      "C:\\Users\\Tototime\\AppData\\Local\\Temp\\ipykernel_59932\\3024032756.py:30: DataConversionWarning: A column-vector y was passed when a 1d array was expected. Please change the shape of y to (n_samples,), for example using ravel().\n",
      "  model.fit(train_data, train_labels)\n",
      "C:\\Users\\Tototime\\AppData\\Local\\Temp\\ipykernel_59932\\3024032756.py:30: DataConversionWarning: A column-vector y was passed when a 1d array was expected. Please change the shape of y to (n_samples,), for example using ravel().\n",
      "  model.fit(train_data, train_labels)\n",
      "C:\\Users\\Tototime\\AppData\\Local\\Temp\\ipykernel_59932\\3024032756.py:30: DataConversionWarning: A column-vector y was passed when a 1d array was expected. Please change the shape of y to (n_samples,), for example using ravel().\n",
      "  model.fit(train_data, train_labels)\n",
      "C:\\Users\\Tototime\\AppData\\Local\\Temp\\ipykernel_59932\\3024032756.py:30: DataConversionWarning: A column-vector y was passed when a 1d array was expected. Please change the shape of y to (n_samples,), for example using ravel().\n",
      "  model.fit(train_data, train_labels)\n",
      "C:\\Users\\Tototime\\AppData\\Local\\Temp\\ipykernel_59932\\3024032756.py:30: DataConversionWarning: A column-vector y was passed when a 1d array was expected. Please change the shape of y to (n_samples,), for example using ravel().\n",
      "  model.fit(train_data, train_labels)\n",
      "C:\\Users\\Tototime\\AppData\\Local\\Temp\\ipykernel_59932\\3024032756.py:30: DataConversionWarning: A column-vector y was passed when a 1d array was expected. Please change the shape of y to (n_samples,), for example using ravel().\n",
      "  model.fit(train_data, train_labels)\n",
      "C:\\Users\\Tototime\\AppData\\Local\\Temp\\ipykernel_59932\\3024032756.py:30: DataConversionWarning: A column-vector y was passed when a 1d array was expected. Please change the shape of y to (n_samples,), for example using ravel().\n",
      "  model.fit(train_data, train_labels)\n",
      "C:\\Users\\Tototime\\AppData\\Local\\Temp\\ipykernel_59932\\3024032756.py:30: DataConversionWarning: A column-vector y was passed when a 1d array was expected. Please change the shape of y to (n_samples,), for example using ravel().\n",
      "  model.fit(train_data, train_labels)\n",
      "C:\\Users\\Tototime\\AppData\\Local\\Temp\\ipykernel_59932\\3024032756.py:30: DataConversionWarning: A column-vector y was passed when a 1d array was expected. Please change the shape of y to (n_samples,), for example using ravel().\n",
      "  model.fit(train_data, train_labels)\n",
      "C:\\Users\\Tototime\\AppData\\Local\\Temp\\ipykernel_59932\\3024032756.py:30: DataConversionWarning: A column-vector y was passed when a 1d array was expected. Please change the shape of y to (n_samples,), for example using ravel().\n",
      "  model.fit(train_data, train_labels)\n",
      "C:\\Users\\Tototime\\AppData\\Local\\Temp\\ipykernel_59932\\3024032756.py:30: DataConversionWarning: A column-vector y was passed when a 1d array was expected. Please change the shape of y to (n_samples,), for example using ravel().\n",
      "  model.fit(train_data, train_labels)\n",
      "C:\\Users\\Tototime\\AppData\\Local\\Temp\\ipykernel_59932\\3024032756.py:30: DataConversionWarning: A column-vector y was passed when a 1d array was expected. Please change the shape of y to (n_samples,), for example using ravel().\n",
      "  model.fit(train_data, train_labels)\n",
      "C:\\Users\\Tototime\\AppData\\Local\\Temp\\ipykernel_59932\\3024032756.py:30: DataConversionWarning: A column-vector y was passed when a 1d array was expected. Please change the shape of y to (n_samples,), for example using ravel().\n",
      "  model.fit(train_data, train_labels)\n"
     ]
    }
   ],
   "source": [
    "# Create dataframes\n",
    "for i in user_data:\n",
    "    data = user_data[str(i)][\"data\"]\n",
    "    result = user_data[str(i)][\"result\"]\n",
    "    dataframe = pd.DataFrame(data, columns=[\"Name\",\"Type 1\", \"Type 2\", \"Generation\",\"legendary\", \"color\",\"first_letter\"])\n",
    "    resultframe = pd.DataFrame(result, columns=[\"favorite\"])\n",
    "\n",
    "    # Generate numerical labels\n",
    "    dataframe[\"Name\"] = le1.fit_transform(dataframe[\"Name\"])\n",
    "    dataframe[\"Type 1\"] = le2.fit_transform(dataframe[\"Type 1\"])\n",
    "    dataframe[\"Type 2\"] = le3.fit_transform(dataframe[\"Type 2\"])\n",
    "    dataframe[\"Generation\"] = le4.fit_transform(dataframe[\"Generation\"])\n",
    "    dataframe[\"legendary\"] = le5.fit_transform(dataframe[\"legendary\"])\n",
    "    dataframe[\"color\"] = le6.fit_transform(dataframe[\"color\"])\n",
    "    dataframe[\"first_letter\"] = le7.fit_transform(dataframe[\"first_letter\"])\n",
    "    resultframe[\"favorite\"] = le8.fit_transform(resultframe[\"favorite\"])\n",
    "\n",
    "    # Split data into training and testing sets\n",
    "    train_data = dataframe.sample(frac=0.8, random_state=0)\n",
    "    test_data = dataframe.drop(train_data.index)\n",
    "\n",
    "    # Split labels into training and testing sets\n",
    "    train_labels = resultframe.sample(frac=0.8, random_state=0)\n",
    "    test_labels = resultframe.drop(train_labels.index)\n",
    "\n",
    "    # Define the model\n",
    "    model = RandomForestClassifier(n_estimators=100, random_state=0)\n",
    "\n",
    "    # Train the model\n",
    "    model.fit(train_data, train_labels)"
   ]
  },
  {
   "cell_type": "code",
   "execution_count": 11,
   "metadata": {},
   "outputs": [
    {
     "data": {
      "text/plain": [
       "[Text(0.5, 0.5, 'gini = 0.0\\nsamples = 1\\nvalue = 1.0')]"
      ]
     },
     "execution_count": 11,
     "metadata": {},
     "output_type": "execute_result"
    },
    {
     "data": {
      "image/png": "[encoded data removed]",
      "text/plain": [
       "<Figure size 640x480 with 1 Axes>"
      ]
     },
     "metadata": {},
     "output_type": "display_data"
    }
   ],
   "source": [
    "# Visualize the Forest\n",
    "plot_tree(model.estimators_[0], filled=True, rounded=True)"
   ]
  }
 ],
 "metadata": {
  "kernelspec": {
   "display_name": "Python 3.11.0 64-bit",
   "language": "python",
   "name": "python3"
  },
  "language_info": {
   "codemirror_mode": {
    "name": "ipython",
    "version": 3
   },
   "file_extension": ".py",
   "mimetype": "text/x-python",
   "name": "python",
   "nbconvert_exporter": "python",
   "pygments_lexer": "ipython3",
   "version": "3.11.0"
  },
  "orig_nbformat": 4,
  "vscode": {
   "interpreter": {
    "hash": "5e709a68c8bffd8ca64ede960b472aee5cbbab0a7eefe704a97155fcd513aef5"
   }
  }
 },
 "nbformat": 4,
 "nbformat_minor": 2
}
